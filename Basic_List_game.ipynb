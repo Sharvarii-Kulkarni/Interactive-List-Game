{
 "cells": [
  {
   "cell_type": "code",
   "execution_count": 1,
   "id": "821c34a4",
   "metadata": {},
   "outputs": [],
   "source": [
    "game_list = [0,1,2]"
   ]
  },
  {
   "cell_type": "code",
   "execution_count": 2,
   "id": "cf23a332",
   "metadata": {},
   "outputs": [
    {
     "name": "stdout",
     "output_type": "stream",
     "text": [
      "here is the game list\n",
      "[0, 1, 2]\n"
     ]
    }
   ],
   "source": [
    "def display_game(game_list):\n",
    "    print(\"here is the game list\")\n",
    "    print(game_list)\n",
    "display_game(game_list)"
   ]
  },
  {
   "cell_type": "code",
   "execution_count": 3,
   "id": "1f98b04d",
   "metadata": {},
   "outputs": [],
   "source": [
    "def position_choice():\n",
    "    choice = 'Wrong'\n",
    "    while choice not in ['0','1','2']:\n",
    "        choice = input(\"Pick a position from ['0','1','2']: \")\n",
    "        \n",
    "        if choice not in ['0','1','2']:\n",
    "            print(\"Invalid choice\")\n",
    "            \n",
    "    return int(choice)\n"
   ]
  },
  {
   "cell_type": "code",
   "execution_count": 4,
   "id": "69e59dd1",
   "metadata": {},
   "outputs": [
    {
     "name": "stdout",
     "output_type": "stream",
     "text": [
      "Pick a position from ['0','1','2']: 1\n"
     ]
    },
    {
     "data": {
      "text/plain": [
       "1"
      ]
     },
     "execution_count": 4,
     "metadata": {},
     "output_type": "execute_result"
    }
   ],
   "source": [
    "position_choice()"
   ]
  },
  {
   "cell_type": "code",
   "execution_count": 5,
   "id": "366b0529",
   "metadata": {},
   "outputs": [],
   "source": [
    "def replacement(game_list, position):\n",
    "    \n",
    "    user_placement = input(\"Enter a string to replace: \")\n",
    "    game_list[position] = user_placement\n",
    "    return game_list"
   ]
  },
  {
   "cell_type": "code",
   "execution_count": 6,
   "id": "7ef07de5",
   "metadata": {},
   "outputs": [
    {
     "name": "stdout",
     "output_type": "stream",
     "text": [
      "Enter a string to replace: hello\n"
     ]
    },
    {
     "data": {
      "text/plain": [
       "[0, 1, 'hello']"
      ]
     },
     "execution_count": 6,
     "metadata": {},
     "output_type": "execute_result"
    }
   ],
   "source": [
    "replacement(game_list, 2)"
   ]
  },
  {
   "cell_type": "code",
   "execution_count": 7,
   "id": "2b3cbb6f",
   "metadata": {},
   "outputs": [
    {
     "name": "stdout",
     "output_type": "stream",
     "text": [
      "Enter a string to replace: no\n"
     ]
    },
    {
     "data": {
      "text/plain": [
       "['no', 1, 'hello']"
      ]
     },
     "execution_count": 7,
     "metadata": {},
     "output_type": "execute_result"
    }
   ],
   "source": [
    "replacement(game_list, 0)"
   ]
  },
  {
   "cell_type": "code",
   "execution_count": 8,
   "id": "7af41c1a",
   "metadata": {},
   "outputs": [],
   "source": [
    "def gameon_choice():\n",
    "    choice = 'Wrong'\n",
    "    while choice not in ['Y','N']:\n",
    "        choice = input(\"Keep playing?(Y or N) \")\n",
    "        \n",
    "        if choice not in ['Y','N']:\n",
    "            print(\"Sorry i dont understand\")\n",
    "            \n",
    "    if choice == 'Y':\n",
    "        return True\n",
    "    else:\n",
    "        return False\n",
    "    "
   ]
  },
  {
   "cell_type": "code",
   "execution_count": 9,
   "id": "10eac552",
   "metadata": {},
   "outputs": [
    {
     "name": "stdout",
     "output_type": "stream",
     "text": [
      "Keep playing?(Y or N) N\n"
     ]
    },
    {
     "data": {
      "text/plain": [
       "False"
      ]
     },
     "execution_count": 9,
     "metadata": {},
     "output_type": "execute_result"
    }
   ],
   "source": [
    "gameon_choice()"
   ]
  },
  {
   "cell_type": "code",
   "execution_count": 10,
   "id": "a8dad4c1",
   "metadata": {},
   "outputs": [
    {
     "name": "stdout",
     "output_type": "stream",
     "text": [
      "here is the game list\n",
      "['0', '1', '2']\n",
      "Pick a position from ['0','1','2']: two\n",
      "Invalid choice\n",
      "Pick a position from ['0','1','2']: 0\n",
      "Enter a string to replace: Fault\n",
      "here is the game list\n",
      "['Fault', '1', '2']\n",
      "Keep playing?(Y or N) Y\n",
      "here is the game list\n",
      "['Fault', '1', '2']\n",
      "Pick a position from ['0','1','2']: 1\n",
      "Enter a string to replace: in our\n",
      "here is the game list\n",
      "['Fault', 'in our', '2']\n",
      "Keep playing?(Y or N) Y\n",
      "here is the game list\n",
      "['Fault', 'in our', '2']\n",
      "Pick a position from ['0','1','2']: 2\n",
      "Enter a string to replace: Stars\n",
      "here is the game list\n",
      "['Fault', 'in our', 'Stars']\n",
      "Keep playing?(Y or N) N\n"
     ]
    }
   ],
   "source": [
    "game_on = True\n",
    "game_list = ['0','1','2']\n",
    "\n",
    "while game_on:\n",
    "    \n",
    "    display_game(game_list)\n",
    "    position = position_choice()\n",
    "    \n",
    "    replacement(game_list,position)\n",
    "    display_game(game_list)\n",
    "    \n",
    "    game_on = gameon_choice()\n",
    "    "
   ]
  },
  {
   "cell_type": "code",
   "execution_count": null,
   "id": "17282974",
   "metadata": {},
   "outputs": [],
   "source": []
  }
 ],
 "metadata": {
  "kernelspec": {
   "display_name": "Python 3 (ipykernel)",
   "language": "python",
   "name": "python3"
  },
  "language_info": {
   "codemirror_mode": {
    "name": "ipython",
    "version": 3
   },
   "file_extension": ".py",
   "mimetype": "text/x-python",
   "name": "python",
   "nbconvert_exporter": "python",
   "pygments_lexer": "ipython3",
   "version": "3.9.7"
  }
 },
 "nbformat": 4,
 "nbformat_minor": 5
}
